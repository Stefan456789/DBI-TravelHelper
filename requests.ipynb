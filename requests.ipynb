{
 "cells": [
  {
   "cell_type": "code",
   "execution_count": 14,
   "metadata": {},
   "outputs": [],
   "source": [
    "from neo4j import GraphDatabase\n",
    "\n",
    "# URI examples: \"neo4j://localhost\", \"neo4j+s://xxx.databases.neo4j.io\"\n",
    "URI = \"neo4j+s://0091e6ed.databases.neo4j.io\"\n",
    "AUTH = (\"neo4j\", \"lOyQFg_OtF978tResvL0CKmXMm0APXm0-v5PqzAjAVQ\")\n",
    "\n",
    "driver = GraphDatabase.driver(URI, auth=AUTH)\n",
    "driver.verify_connectivity()\n",
    "\n",
    "    "
   ]
  },
  {
   "cell_type": "code",
   "execution_count": 15,
   "metadata": {},
   "outputs": [
    {
     "name": "stdout",
     "output_type": "stream",
     "text": [
      "<Node element_id='4:6cdce4f9-ea4d-44e6-95eb-19e1317a3f68:0' labels=frozenset({'Country', 'Place'}) properties={'code': 'PL', 'name': 'Poland'}>\n",
      "<Node element_id='4:6cdce4f9-ea4d-44e6-95eb-19e1317a3f68:1' labels=frozenset({'Country', 'Place'}) properties={'code': 'US', 'name': 'United States'}>\n",
      "<Node element_id='4:6cdce4f9-ea4d-44e6-95eb-19e1317a3f68:2' labels=frozenset({'Country', 'Place'}) properties={'code': 'ES', 'name': 'Spain'}>\n",
      "<Node element_id='4:6cdce4f9-ea4d-44e6-95eb-19e1317a3f68:3' labels=frozenset({'Country', 'Place'}) properties={'code': 'FR', 'name': 'France'}>\n",
      "<Node element_id='4:6cdce4f9-ea4d-44e6-95eb-19e1317a3f68:4' labels=frozenset({'Country', 'Place'}) properties={'code': 'IT', 'name': 'Italy'}>\n"
     ]
    }
   ],
   "source": [
    "session = driver.session() \n",
    "result = session.run(\"MATCH (n) RETURN n LIMIT 5\")\n",
    "for record in result:\n",
    "    print(record[\"n\"])"
   ]
  },
  {
   "cell_type": "code",
   "execution_count": null,
   "metadata": {},
   "outputs": [],
   "source": [
    "def get_schema(tx):\n",
    "            schema_data = {}\n",
    "            query = f\"\"\"\n",
    "                MATCH (table_node:{table_label})\n",
    "                OPTIONAL MATCH (table_node)-[:{relationship_type}]->(attribute_node:{attribute_label})\n",
    "                RETURN table_node.{table_name_property} AS tableName,\n",
    "                       collect(attribute_node.{attribute_name_property}) AS attributes\n",
    "            \"\"\"\n",
    "            result = tx.run(query)\n",
    "            for record in result:\n",
    "                table_name = record[\"tableName\"]\n",
    "                attributes = record[\"attributes\"] if record[\"attributes\"] else [] # Handle cases with no attributes\n",
    "                schema_data[table_name] = attributes\n",
    "            return schema_data\n",
    "\n",
    "        with driver.session() as session:\n",
    "            schema = session.read_transaction(get_schema)\n",
    "            return schema"
   ]
  },
  {
   "cell_type": "code",
   "execution_count": 17,
   "metadata": {},
   "outputs": [
    {
     "name": "stderr",
     "output_type": "stream",
     "text": [
      "Received notification from DBMS server: {severity: WARNING} {code: Neo.ClientNotification.Statement.FeatureDeprecationWarning} {category: DEPRECATION} {title: This feature is deprecated and will be removed in future versions.} {description: The query used a deprecated function: `id`.} {position: line: 4, column: 5, offset: 73} for query: '\\nMATCH (a)-[r]->(b)\\nRETURN type(r) as type, properties(r) as props, \\n    id(a) as source_id, properties(a) as source_props,\\n    id(b) as target_id, properties(b) as target_props\\n'\n",
      "Received notification from DBMS server: {severity: WARNING} {code: Neo.ClientNotification.Statement.FeatureDeprecationWarning} {category: DEPRECATION} {title: This feature is deprecated and will be removed in future versions.} {description: The query used a deprecated function: `id`.} {position: line: 5, column: 5, offset: 128} for query: '\\nMATCH (a)-[r]->(b)\\nRETURN type(r) as type, properties(r) as props, \\n    id(a) as source_id, properties(a) as source_props,\\n    id(b) as target_id, properties(b) as target_props\\n'\n",
      "Received notification from DBMS server: {severity: WARNING} {code: Neo.ClientNotification.Statement.FeatureDeprecationWarning} {category: DEPRECATION} {title: This feature is deprecated and will be removed in future versions.} {description: The query used a deprecated function: `id`.} {position: line: 4, column: 5, offset: 73} for query: '\\nMATCH (a)-[r]->(b)\\nRETURN type(r) as type, properties(r) as props, \\n    id(a) as source_id, properties(a) as source_props,\\n    id(b) as target_id, properties(b) as target_props\\n'\n",
      "Received notification from DBMS server: {severity: WARNING} {code: Neo.ClientNotification.Statement.FeatureDeprecationWarning} {category: DEPRECATION} {title: This feature is deprecated and will be removed in future versions.} {description: The query used a deprecated function: `id`.} {position: line: 5, column: 5, offset: 128} for query: '\\nMATCH (a)-[r]->(b)\\nRETURN type(r) as type, properties(r) as props, \\n    id(a) as source_id, properties(a) as source_props,\\n    id(b) as target_id, properties(b) as target_props\\n'\n"
     ]
    },
    {
     "name": "stdout",
     "output_type": "stream",
     "text": [
      "Node Tables:\n",
      "\n",
      "Table: Place\n",
      "Columns: id, name, code, coordinates\n",
      "\n",
      "Table: Country\n",
      "Columns: id, name, code\n",
      "\n",
      "Table: City\n",
      "Columns: id, name, code, coordinates\n",
      "\n",
      "Table: Sustenance\n",
      "Columns: id, lat, housenumber, cuisine, city, name, street, lon, website\n",
      "\n",
      "Table: Restaurant\n",
      "Columns: id, lat, housenumber, cuisine, city, name, street, lon, website\n",
      "\n",
      "Table: PlaceToSleep\n",
      "Columns: id, lat, housenumber, city, name, street, lon, website\n",
      "\n",
      "Table: Hotel\n",
      "Columns: id, lat, housenumber, city, name, street, lon, website\n",
      "\n",
      "Table: Person\n",
      "Columns: id, name, age, blog_address\n",
      "\n",
      "Table: Trip\n",
      "Columns: id, duration, year_season, type, name\n",
      "\n",
      "Relationship Tables:\n",
      "\n",
      "Table: STARTS_FROM\n",
      "Columns: id, source_id, target_id, properties\n",
      "\n",
      "Table: IS_LOCATED_IN\n",
      "Columns: id, source_id, target_id, properties\n",
      "\n",
      "Table: BELONGS_TO\n",
      "Columns: id, source_id, target_id, properties\n",
      "\n",
      "Table: WENT_FOR\n",
      "Columns: id, source_id, target_id, properties\n",
      "\n",
      "Table: TO\n",
      "Columns: id, source_id, target_id, properties\n",
      "\n",
      "Table: LIVES_IN\n",
      "Columns: id, source_id, target_id, properties\n",
      "\n",
      "Table: WENT_TO\n",
      "Columns: id, source_id, target_id, properties\n",
      "\n",
      "Table: STAYED_AT\n",
      "Columns: id, source_id, target_id, properties\n",
      "\n",
      "Table: IS_PART_OF\n",
      "Columns: id, source_id, target_id, properties\n"
     ]
    }
   ],
   "source": [
    "# Analyze node labels and properties to identify table structures\n",
    "label_properties = {}\n",
    "relationship_types = set()\n",
    "\n",
    "# Analyze nodes\n",
    "for node in nodes_data:\n",
    "    labels = node['labels']\n",
    "    for label in labels:\n",
    "        if label not in label_properties:\n",
    "            label_properties[label] = set()\n",
    "        # Add all properties for this node type\n",
    "        for prop in node.keys():\n",
    "            if prop != 'labels':\n",
    "                label_properties[label].add(prop)\n",
    "\n",
    "# Analyze relationships\n",
    "result = session.run(relationships_query)\n",
    "for record in result:\n",
    "    relationship_types.add(record['type'])\n",
    "\n",
    "# Print table structures\n",
    "print(\"Node Tables:\")\n",
    "for label, props in label_properties.items():\n",
    "    print(f\"\\nTable: {label}\")\n",
    "    print(\"Columns:\", \", \".join(['id'] + list(props)))\n",
    "\n",
    "print(\"\\nRelationship Tables:\")\n",
    "for rel_type in relationship_types:\n",
    "    print(f\"\\nTable: {rel_type}\")\n",
    "    print(\"Columns: id, source_id, target_id, properties\")"
   ]
  },
  {
   "cell_type": "code",
   "execution_count": 9,
   "metadata": {},
   "outputs": [],
   "source": [
    "session.close()\n",
    "driver.close()"
   ]
  }
 ],
 "metadata": {
  "kernelspec": {
   "display_name": "base",
   "language": "python",
   "name": "python3"
  },
  "language_info": {
   "codemirror_mode": {
    "name": "ipython",
    "version": 3
   },
   "file_extension": ".py",
   "mimetype": "text/x-python",
   "name": "python",
   "nbconvert_exporter": "python",
   "pygments_lexer": "ipython3",
   "version": "3.12.7"
  }
 },
 "nbformat": 4,
 "nbformat_minor": 2
}
