{
 "cells": [
  {
   "cell_type": "code",
   "execution_count": 7,
   "metadata": {},
   "outputs": [],
   "source": [
    "import sqlite3\n",
    "import pandas as pd\n",
    "\n",
    "def execute_sql_file(sql_file, db_name = \"../travel_db.sqlite\"):\n",
    "    conn = sqlite3.connect(db_name)\n",
    "    cursor = conn.cursor()\n",
    "\n",
    "    with open(sql_file, 'r') as f:\n",
    "        sql_script = f.read()\n",
    "\n",
    "    try:\n",
    "        cursor.execute(sql_script)\n",
    "        rows = cursor.fetchall()\n",
    "        # Get column names from cursor description\n",
    "        if cursor.description:\n",
    "            columns = [desc[0] for desc in cursor.description]\n",
    "            df = pd.DataFrame(rows, columns=columns)\n",
    "            return df\n",
    "        else:\n",
    "            print(\"Query executed successfully but returned no data.\")\n",
    "            return None\n",
    "    except sqlite3.Error as e:\n",
    "        print(f\"Error executing statement: {e}\")\n",
    "\n",
    "    conn.commit()\n",
    "    conn.close()\n"
   ]
  },
  {
   "cell_type": "markdown",
   "metadata": {},
   "source": [
    "## 2b. I am Laura, 31, from Madrid. Currently visiting Warsaw in Poland. I don&#8217;t like my hotel. Show me hotels recommended by other people in desired price.\n"
   ]
  },
  {
   "cell_type": "code",
   "execution_count": null,
   "metadata": {},
   "outputs": [],
   "source": [
    "%%cypher\n",
    "MATCH (hotel:PlaceToSleep)-[IS_LOCATED_IN]->(:Place{name:'Warszawa'}),\n",
    "(client:Person)-[:WENT_FOR]->(:Trip)-[stay:STAYED_AT]->hotel\n",
    "WITH DISTINCT hotel.name as hotel, hotel.website as website, collect(stay) as stays\n",
    "WITH hotel, website, (reduce(s = 0 , x IN stays | s + x.avg_price_per_night))/size(stays) as avg_price\n",
    "WHERE avg_price<200\n",
    "RETURN hotel, website, avg_price\n",
    "ORDER BY avg_price"
   ]
  },
  {
   "cell_type": "code",
   "execution_count": null,
   "metadata": {},
   "outputs": [
    {
     "data": {
      "text/html": [
       "<div>\n",
       "<style scoped>\n",
       "    .dataframe tbody tr th:only-of-type {\n",
       "        vertical-align: middle;\n",
       "    }\n",
       "\n",
       "    .dataframe tbody tr th {\n",
       "        vertical-align: top;\n",
       "    }\n",
       "\n",
       "    .dataframe thead th {\n",
       "        text-align: right;\n",
       "    }\n",
       "</style>\n",
       "<table border=\"1\" class=\"dataframe\">\n",
       "  <thead>\n",
       "    <tr style=\"text-align: right;\">\n",
       "      <th></th>\n",
       "      <th>hotel</th>\n",
       "      <th>website</th>\n",
       "      <th>avg_price</th>\n",
       "    </tr>\n",
       "  </thead>\n",
       "  <tbody>\n",
       "    <tr>\n",
       "      <th>0</th>\n",
       "      <td>Villa Jeziorki 71</td>\n",
       "      <td>http://www.villajeziorki.pl</td>\n",
       "      <td>60.0</td>\n",
       "    </tr>\n",
       "    <tr>\n",
       "      <th>1</th>\n",
       "      <td>Mazowiecki</td>\n",
       "      <td>http://www.hotelmazowiecki.pl</td>\n",
       "      <td>112.0</td>\n",
       "    </tr>\n",
       "  </tbody>\n",
       "</table>\n",
       "</div>"
      ],
      "text/plain": [
       "               hotel                        website  avg_price\n",
       "0  Villa Jeziorki 71    http://www.villajeziorki.pl       60.0\n",
       "1         Mazowiecki  http://www.hotelmazowiecki.pl      112.0"
      ]
     },
     "execution_count": 6,
     "metadata": {},
     "output_type": "execute_result"
    }
   ],
   "source": [
    "execute_sql_file(\"hotel_avg_price_query.sql\")"
   ]
  },
  {
   "cell_type": "markdown",
   "metadata": {},
   "source": [
    "## 1c. I am Laura, 31, from Madrid. I need an inspiration for a long travel. I want to see as many places as possible. Show me travels of other people.\n"
   ]
  },
  {
   "cell_type": "code",
   "execution_count": null,
   "metadata": {},
   "outputs": [],
   "source": [
    "%%cypher\n",
    "MATCH (:Trip)-[:IS_PART_OF]->(longTrip:Trip)-[:STARTS_FROM]->(start_place:Place)\n",
    "WITH DISTINCT longTrip, start_place.name as start_place\n",
    "MATCH (city:Place)<-[to:TO]-(shortTrip:Trip)-[part:IS_PART_OF]->(longTrip)\n",
    "WITH longTrip.name as tripName, start_place, city.name as name, part.order_no as order_no, to.transportation as by\n",
    "ORDER BY order_no\n",
    "WITH tripName, start_place, collect({order_no:order_no, to:name, by:by}) as cities\n",
    "WITH tripName, start_place, cities, size(cities) as nbrOfCities\n",
    "RETURN tripName, start_place, cities\n",
    "ORDER BY nbrOfCities DESC"
   ]
  },
  {
   "cell_type": "code",
   "execution_count": 9,
   "metadata": {},
   "outputs": [
    {
     "data": {
      "text/html": [
       "<div>\n",
       "<style scoped>\n",
       "    .dataframe tbody tr th:only-of-type {\n",
       "        vertical-align: middle;\n",
       "    }\n",
       "\n",
       "    .dataframe tbody tr th {\n",
       "        vertical-align: top;\n",
       "    }\n",
       "\n",
       "    .dataframe thead th {\n",
       "        text-align: right;\n",
       "    }\n",
       "</style>\n",
       "<table border=\"1\" class=\"dataframe\">\n",
       "  <thead>\n",
       "    <tr style=\"text-align: right;\">\n",
       "      <th></th>\n",
       "      <th>tripname</th>\n",
       "      <th>start_place</th>\n",
       "      <th>cities</th>\n",
       "      <th>nbrofcities</th>\n",
       "    </tr>\n",
       "  </thead>\n",
       "  <tbody>\n",
       "    <tr>\n",
       "      <th>0</th>\n",
       "      <td>My trip around Europe</td>\n",
       "      <td>Warszawa</td>\n",
       "      <td>{\"order_no\":1,\"to\":\"Rome\",\"by\":\"plane\"},{\"orde...</td>\n",
       "      <td>15</td>\n",
       "    </tr>\n",
       "    <tr>\n",
       "      <th>1</th>\n",
       "      <td>My trip to USA</td>\n",
       "      <td>Madrid</td>\n",
       "      <td>{\"order_no\":1,\"to\":\"Chicago\",\"by\":\"plane\"},{\"o...</td>\n",
       "      <td>13</td>\n",
       "    </tr>\n",
       "    <tr>\n",
       "      <th>2</th>\n",
       "      <td>My trip around Poland</td>\n",
       "      <td>Rome</td>\n",
       "      <td>{\"order_no\":1,\"to\":\"Warszawa\",\"by\":\"plane\"},{\"...</td>\n",
       "      <td>7</td>\n",
       "    </tr>\n",
       "    <tr>\n",
       "      <th>3</th>\n",
       "      <td>My holidays to USA</td>\n",
       "      <td>London</td>\n",
       "      <td>{\"order_no\":1,\"to\":\"San Francisco\",\"by\":\"plane...</td>\n",
       "      <td>5</td>\n",
       "    </tr>\n",
       "    <tr>\n",
       "      <th>4</th>\n",
       "      <td>My trip around Poland</td>\n",
       "      <td>Chicago</td>\n",
       "      <td>{\"order_no\":1,\"to\":\"Warszawa\",\"by\":\"plane\"},{\"...</td>\n",
       "      <td>5</td>\n",
       "    </tr>\n",
       "    <tr>\n",
       "      <th>5</th>\n",
       "      <td>My trip around Poland</td>\n",
       "      <td>Lisboa</td>\n",
       "      <td>{\"order_no\":1,\"to\":\"Warszawa\",\"by\":\"plane\"},{\"...</td>\n",
       "      <td>5</td>\n",
       "    </tr>\n",
       "    <tr>\n",
       "      <th>6</th>\n",
       "      <td>My trip around Poland</td>\n",
       "      <td>Nice</td>\n",
       "      <td>{\"order_no\":1,\"to\":\"Poznan\",\"by\":\"plane\"},{\"or...</td>\n",
       "      <td>4</td>\n",
       "    </tr>\n",
       "    <tr>\n",
       "      <th>7</th>\n",
       "      <td>Weekend in Barcelona</td>\n",
       "      <td>Madrid</td>\n",
       "      <td>{\"order_no\":1,\"to\":\"Barcelona\",\"by\":\"plane\"},{...</td>\n",
       "      <td>4</td>\n",
       "    </tr>\n",
       "    <tr>\n",
       "      <th>8</th>\n",
       "      <td>Weekend in London</td>\n",
       "      <td>Madrid</td>\n",
       "      <td>{\"order_no\":1,\"to\":\"London\",\"by\":\"plane\"},{\"or...</td>\n",
       "      <td>2</td>\n",
       "    </tr>\n",
       "  </tbody>\n",
       "</table>\n",
       "</div>"
      ],
      "text/plain": [
       "                tripname start_place  \\\n",
       "0  My trip around Europe    Warszawa   \n",
       "1         My trip to USA      Madrid   \n",
       "2  My trip around Poland        Rome   \n",
       "3     My holidays to USA      London   \n",
       "4  My trip around Poland     Chicago   \n",
       "5  My trip around Poland      Lisboa   \n",
       "6  My trip around Poland        Nice   \n",
       "7   Weekend in Barcelona      Madrid   \n",
       "8      Weekend in London      Madrid   \n",
       "\n",
       "                                              cities  nbrofcities  \n",
       "0  {\"order_no\":1,\"to\":\"Rome\",\"by\":\"plane\"},{\"orde...           15  \n",
       "1  {\"order_no\":1,\"to\":\"Chicago\",\"by\":\"plane\"},{\"o...           13  \n",
       "2  {\"order_no\":1,\"to\":\"Warszawa\",\"by\":\"plane\"},{\"...            7  \n",
       "3  {\"order_no\":1,\"to\":\"San Francisco\",\"by\":\"plane...            5  \n",
       "4  {\"order_no\":1,\"to\":\"Warszawa\",\"by\":\"plane\"},{\"...            5  \n",
       "5  {\"order_no\":1,\"to\":\"Warszawa\",\"by\":\"plane\"},{\"...            5  \n",
       "6  {\"order_no\":1,\"to\":\"Poznan\",\"by\":\"plane\"},{\"or...            4  \n",
       "7  {\"order_no\":1,\"to\":\"Barcelona\",\"by\":\"plane\"},{...            4  \n",
       "8  {\"order_no\":1,\"to\":\"London\",\"by\":\"plane\"},{\"or...            2  "
      ]
     },
     "execution_count": 9,
     "metadata": {},
     "output_type": "execute_result"
    }
   ],
   "source": [
    "execute_sql_file(\"long_trip_cities_query.sql\")\n"
   ]
  },
  {
   "cell_type": "code",
   "execution_count": null,
   "metadata": {},
   "outputs": [],
   "source": [
    "%%cypher\n",
    "MATCH (weekend:Trip{duration:2})-[:STARTS_FROM]->(madrid:Place{name:'Madrid'}),\n",
    "(trip:Trip)-[:IS_PART_OF]->(weekend),\n",
    "(trip)-[:TO]->(place:Place)\n",
    "WHERE place.name <> 'Madrid'\n",
    "WITH place.name as placeName, count(place) as counts\n",
    "RETURN placeName\n",
    "ORDER BY counts DESC"
   ]
  },
  {
   "cell_type": "code",
   "execution_count": 10,
   "metadata": {},
   "outputs": [
    {
     "data": {
      "text/html": [
       "<div>\n",
       "<style scoped>\n",
       "    .dataframe tbody tr th:only-of-type {\n",
       "        vertical-align: middle;\n",
       "    }\n",
       "\n",
       "    .dataframe tbody tr th {\n",
       "        vertical-align: top;\n",
       "    }\n",
       "\n",
       "    .dataframe thead th {\n",
       "        text-align: right;\n",
       "    }\n",
       "</style>\n",
       "<table border=\"1\" class=\"dataframe\">\n",
       "  <thead>\n",
       "    <tr style=\"text-align: right;\">\n",
       "      <th></th>\n",
       "      <th>placename</th>\n",
       "      <th>counts</th>\n",
       "    </tr>\n",
       "  </thead>\n",
       "  <tbody>\n",
       "    <tr>\n",
       "      <th>0</th>\n",
       "      <td>Barcelona</td>\n",
       "      <td>2</td>\n",
       "    </tr>\n",
       "    <tr>\n",
       "      <th>1</th>\n",
       "      <td>London</td>\n",
       "      <td>1</td>\n",
       "    </tr>\n",
       "  </tbody>\n",
       "</table>\n",
       "</div>"
      ],
      "text/plain": [
       "   placename  counts\n",
       "0  Barcelona       2\n",
       "1     London       1"
      ]
     },
     "execution_count": 10,
     "metadata": {},
     "output_type": "execute_result"
    }
   ],
   "source": [
    "execute_sql_file(\"popular_madrid_destinations.sql\")"
   ]
  },
  {
   "cell_type": "markdown",
   "metadata": {},
   "source": [
    "## 2a. I am Laura, 31, from Madrid. Currently visiting Warsaw in Poland. What restaurants in Warsaw are mostly recommended by people in my age?\n",
    "\n"
   ]
  },
  {
   "cell_type": "code",
   "execution_count": null,
   "metadata": {},
   "outputs": [],
   "source": [
    "%%cypher\n",
    "MATCH (restaurant:Sustenance)-[IS_LOCATED_IN]->(:Place{name:'Warszawa'}),\n",
    "(client:Person)-[:WENT_FOR]->(:Trip)-[meal:WENT_TO]->restaurant\n",
    "WHERE client.age>25 AND client.age<36\n",
    "WITH DISTINCT restaurant.name as resto, collect(meal) as meals\n",
    "WITH resto, (reduce(s = 0 , x IN meals | s + x.rate))/size(meals) as avg_rate\n",
    "RETURN resto, avg_rate\n",
    "ORDER BY avg_rate DESC"
   ]
  },
  {
   "cell_type": "code",
   "execution_count": 11,
   "metadata": {},
   "outputs": [
    {
     "data": {
      "text/html": [
       "<div>\n",
       "<style scoped>\n",
       "    .dataframe tbody tr th:only-of-type {\n",
       "        vertical-align: middle;\n",
       "    }\n",
       "\n",
       "    .dataframe tbody tr th {\n",
       "        vertical-align: top;\n",
       "    }\n",
       "\n",
       "    .dataframe thead th {\n",
       "        text-align: right;\n",
       "    }\n",
       "</style>\n",
       "<table border=\"1\" class=\"dataframe\">\n",
       "  <thead>\n",
       "    <tr style=\"text-align: right;\">\n",
       "      <th></th>\n",
       "      <th>resto</th>\n",
       "      <th>avg_rate</th>\n",
       "    </tr>\n",
       "  </thead>\n",
       "  <tbody>\n",
       "    <tr>\n",
       "      <th>0</th>\n",
       "      <td>Pierogarnia Zapiecek</td>\n",
       "      <td>5.0</td>\n",
       "    </tr>\n",
       "    <tr>\n",
       "      <th>1</th>\n",
       "      <td>Literatka</td>\n",
       "      <td>5.0</td>\n",
       "    </tr>\n",
       "  </tbody>\n",
       "</table>\n",
       "</div>"
      ],
      "text/plain": [
       "                  resto  avg_rate\n",
       "0  Pierogarnia Zapiecek       5.0\n",
       "1             Literatka       5.0"
      ]
     },
     "execution_count": 11,
     "metadata": {},
     "output_type": "execute_result"
    }
   ],
   "source": [
    "execute_sql_file(\"restaurant_avg_rate_query.sql\")"
   ]
  },
  {
   "cell_type": "markdown",
   "metadata": {},
   "source": [
    "## 1b. I am Laura, 31, from Madrid. I am planning to go to USA for one month. I want to see as many places as possible. Show me how people travel there.\n"
   ]
  },
  {
   "cell_type": "code",
   "execution_count": null,
   "metadata": {},
   "outputs": [],
   "source": [
    "%%cypher\n",
    "MATCH (shortTrip:Trip)-[:TO]->(:Place)-[:BELONGS_TO*]->(:Country{code:'US'}),\n",
    "(shortTrip)-[:IS_PART_OF]->(usaTrip:Trip)-[:STARTS_FROM]->(start_place:Place)\n",
    "WHERE usaTrip.duration<32\n",
    "WITH DISTINCT usaTrip, start_place.name as start_place\n",
    "MATCH (:Country{code:'US'})<-[:BELONGS_TO*]-(city:Place)<-[to:TO]-(shortTrip:Trip)-[part:IS_PART_OF]->(usaTrip)\n",
    "WITH usaTrip.name as tripName, start_place, city.name as name, part.order_no as order_no, to.transportation as by\n",
    "ORDER BY order_no\n",
    "WITH tripName, start_place, collect({order_no:order_no, to:name, by:by}) as cities\n",
    "WITH tripName, start_place, cities, size(cities) as nbrOfCities\n",
    "RETURN tripName, start_place, cities\n",
    "ORDER BY nbrOfCities DESC"
   ]
  },
  {
   "cell_type": "code",
   "execution_count": 12,
   "metadata": {},
   "outputs": [
    {
     "data": {
      "text/html": [
       "<div>\n",
       "<style scoped>\n",
       "    .dataframe tbody tr th:only-of-type {\n",
       "        vertical-align: middle;\n",
       "    }\n",
       "\n",
       "    .dataframe tbody tr th {\n",
       "        vertical-align: top;\n",
       "    }\n",
       "\n",
       "    .dataframe thead th {\n",
       "        text-align: right;\n",
       "    }\n",
       "</style>\n",
       "<table border=\"1\" class=\"dataframe\">\n",
       "  <thead>\n",
       "    <tr style=\"text-align: right;\">\n",
       "      <th></th>\n",
       "      <th>tripName</th>\n",
       "      <th>start_place</th>\n",
       "      <th>cities</th>\n",
       "      <th>nbrOfCities</th>\n",
       "    </tr>\n",
       "  </thead>\n",
       "  <tbody>\n",
       "    <tr>\n",
       "      <th>0</th>\n",
       "      <td>My trip to USA</td>\n",
       "      <td>Madrid</td>\n",
       "      <td>{\"order_no\":1,\"to\":\"Chicago\",\"by\":\"plane\"},{\"o...</td>\n",
       "      <td>12</td>\n",
       "    </tr>\n",
       "    <tr>\n",
       "      <th>1</th>\n",
       "      <td>My holidays to USA</td>\n",
       "      <td>London</td>\n",
       "      <td>{\"order_no\":1,\"to\":\"San Francisco\",\"by\":\"plane...</td>\n",
       "      <td>4</td>\n",
       "    </tr>\n",
       "  </tbody>\n",
       "</table>\n",
       "</div>"
      ],
      "text/plain": [
       "             tripName start_place  \\\n",
       "0      My trip to USA      Madrid   \n",
       "1  My holidays to USA      London   \n",
       "\n",
       "                                              cities  nbrOfCities  \n",
       "0  {\"order_no\":1,\"to\":\"Chicago\",\"by\":\"plane\"},{\"o...           12  \n",
       "1  {\"order_no\":1,\"to\":\"San Francisco\",\"by\":\"plane...            4  "
      ]
     },
     "execution_count": 12,
     "metadata": {},
     "output_type": "execute_result"
    }
   ],
   "source": [
    "execute_sql_file(\"usa_trips_query.sql\")"
   ]
  },
  {
   "cell_type": "markdown",
   "metadata": {},
   "source": [
    "## 2c. I am Laura, 31, from Madrid. Currently visiting Warsaw in Poland. I want to spend more time in Poland than I planned previously. Where can I go next?\n"
   ]
  },
  {
   "cell_type": "code",
   "execution_count": null,
   "metadata": {},
   "outputs": [],
   "source": [
    "%%cypher\n",
    "MATCH (warsawTrip:Trip)-[:TO]->(place:Place{name:'Warszawa'}),\n",
    "(warsawTrip)-[warsawPart:IS_PART_OF]->(longTrip:Trip),\n",
    "(previousPlace:Place)<-[:TO]-(previousTrip)-[previousPart:IS_PART_OF]->longTrip,\n",
    "(place)-[:BELONGS_TO*]->(:Country{name:'Poland'})<-[BELONGS_TO]-(previousPlace)\n",
    "WHERE previousPart.order_no = warsawPart.order_no -1\n",
    "RETURN previousPlace.name as place\n",
    "UNION\n",
    "MATCH (warsawTrip:Trip)-[:TO]->(place:Place{name:'Warszawa'}),\n",
    "(warsawTrip)-[warsawPart:IS_PART_OF]->(longTrip:Trip),\n",
    "(nextPlace:Place)<-[:TO]-(nextTrip)-[nextPart:IS_PART_OF]->longTrip,\n",
    "(place)-[:BELONGS_TO*]->(:Country{name:'Poland'})<-[BELONGS_TO]-(nextPlace)\n",
    "WHERE nextPart.order_no = warsawPart.order_no +1\n",
    "RETURN nextPlace.name as place"
   ]
  },
  {
   "cell_type": "code",
   "execution_count": 14,
   "metadata": {},
   "outputs": [
    {
     "data": {
      "text/html": [
       "<div>\n",
       "<style scoped>\n",
       "    .dataframe tbody tr th:only-of-type {\n",
       "        vertical-align: middle;\n",
       "    }\n",
       "\n",
       "    .dataframe tbody tr th {\n",
       "        vertical-align: top;\n",
       "    }\n",
       "\n",
       "    .dataframe thead th {\n",
       "        text-align: right;\n",
       "    }\n",
       "</style>\n",
       "<table border=\"1\" class=\"dataframe\">\n",
       "  <thead>\n",
       "    <tr style=\"text-align: right;\">\n",
       "      <th></th>\n",
       "      <th>place</th>\n",
       "    </tr>\n",
       "  </thead>\n",
       "  <tbody>\n",
       "    <tr>\n",
       "      <th>0</th>\n",
       "      <td>Krakow</td>\n",
       "    </tr>\n",
       "    <tr>\n",
       "      <th>1</th>\n",
       "      <td>Poznan</td>\n",
       "    </tr>\n",
       "    <tr>\n",
       "      <th>2</th>\n",
       "      <td>Torun</td>\n",
       "    </tr>\n",
       "    <tr>\n",
       "      <th>3</th>\n",
       "      <td>Zakopane</td>\n",
       "    </tr>\n",
       "  </tbody>\n",
       "</table>\n",
       "</div>"
      ],
      "text/plain": [
       "      place\n",
       "0    Krakow\n",
       "1    Poznan\n",
       "2     Torun\n",
       "3  Zakopane"
      ]
     },
     "execution_count": 14,
     "metadata": {},
     "output_type": "execute_result"
    }
   ],
   "source": [
    "execute_sql_file(\"warsaw_neighboring_places_query.sql\")"
   ]
  }
 ],
 "metadata": {
  "kernelspec": {
   "display_name": "base",
   "language": "python",
   "name": "python3"
  },
  "language_info": {
   "codemirror_mode": {
    "name": "ipython",
    "version": 3
   },
   "file_extension": ".py",
   "mimetype": "text/x-python",
   "name": "python",
   "nbconvert_exporter": "python",
   "pygments_lexer": "ipython3",
   "version": "3.12.7"
  }
 },
 "nbformat": 4,
 "nbformat_minor": 2
}
