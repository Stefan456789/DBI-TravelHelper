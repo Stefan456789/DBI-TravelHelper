{
 "cells": [
  {
   "cell_type": "code",
   "execution_count": 16,
   "metadata": {},
   "outputs": [],
   "source": [
    "import sqlite3\n",
    "\n",
    "def execute_sql_file(sql_file, db_name = \"../travel_db.sqlite\"):\n",
    "    conn = sqlite3.connect(db_name)\n",
    "    cursor = conn.cursor()\n",
    "\n",
    "    with open(sql_file, 'r') as f:\n",
    "        sql_script = f.read()\n",
    "\n",
    "    try:\n",
    "        cursor.execute(sql_script)\n",
    "        rows = cursor.fetchall()\n",
    "        if rows:\n",
    "            for row in rows:\n",
    "                print(row)\n",
    "    except sqlite3.Error as e:\n",
    "        print(f\"Error executing statement: {e}\")\n",
    "\n",
    "    conn.commit()\n",
    "    conn.close()\n"
   ]
  },
  {
   "cell_type": "markdown",
   "metadata": {},
   "source": [
    "## 2b. I am Laura, 31, from Madrid. Currently visiting Warsaw in Poland. I don&#8217;t like my hotel. Show me hotels recommended by other people in desired price.\n"
   ]
  },
  {
   "cell_type": "code",
   "execution_count": 17,
   "metadata": {},
   "outputs": [
    {
     "name": "stderr",
     "output_type": "stream",
     "text": [
      "UsageError: Cell magic `%%cypher` not found.\n"
     ]
    }
   ],
   "source": [
    "%%cypher\n",
    "MATCH (hotel:PlaceToSleep)-[IS_LOCATED_IN]->(:Place{name:'Warszawa'}),\n",
    "(client:Person)-[:WENT_FOR]->(:Trip)-[stay:STAYED_AT]->hotel\n",
    "WITH DISTINCT hotel.name as hotel, hotel.website as website, collect(stay) as stays\n",
    "WITH hotel, website, (reduce(s = 0 , x IN stays | s + x.avg_price_per_night))/size(stays) as avg_price\n",
    "WHERE avg_price<200\n",
    "RETURN hotel, website, avg_price\n",
    "ORDER BY avg_price"
   ]
  },
  {
   "cell_type": "code",
   "execution_count": null,
   "metadata": {},
   "outputs": [
    {
     "name": "stdout",
     "output_type": "stream",
     "text": [
      "[('Villa Jeziorki 71', 'http://www.villajeziorki.pl', 60.0), ('Mazowiecki', 'http://www.hotelmazowiecki.pl', 112.0)]\n"
     ]
    }
   ],
   "source": [
    "execute_sql_file(\"hotel_avg_price_query.sql\")"
   ]
  },
  {
   "cell_type": "markdown",
   "metadata": {},
   "source": [
    "## 1c. I am Laura, 31, from Madrid. I need an inspiration for a long travel. I want to see as many places as possible. Show me travels of other people.\n"
   ]
  },
  {
   "cell_type": "code",
   "execution_count": null,
   "metadata": {},
   "outputs": [],
   "source": [
    "%%cypher\n",
    "MATCH (:Trip)-[:IS_PART_OF]->(longTrip:Trip)-[:STARTS_FROM]->(start_place:Place)\n",
    "WITH DISTINCT longTrip, start_place.name as start_place\n",
    "MATCH (city:Place)<-[to:TO]-(shortTrip:Trip)-[part:IS_PART_OF]->(longTrip)\n",
    "WITH longTrip.name as tripName, start_place, city.name as name, part.order_no as order_no, to.transportation as by\n",
    "ORDER BY order_no\n",
    "WITH tripName, start_place, collect({order_no:order_no, to:name, by:by}) as cities\n",
    "WITH tripName, start_place, cities, size(cities) as nbrOfCities\n",
    "RETURN tripName, start_place, cities\n",
    "ORDER BY nbrOfCities DESC"
   ]
  },
  {
   "cell_type": "code",
   "execution_count": null,
   "metadata": {},
   "outputs": [
    {
     "name": "stdout",
     "output_type": "stream",
     "text": [
      "[('My trip around Europe', 'Warszawa', '{\"order_no\":1,\"to\":\"Rome\",\"by\":\"plane\"},{\"order_no\":2,\"to\":\"Milano\",\"by\":\"train\"},{\"order_no\":3,\"to\":\"Nice\",\"by\":\"train\"},{\"order_no\":4,\"to\":\"Marseille\",\"by\":\"train\"},{\"order_no\":5,\"to\":\"Avignon\",\"by\":\"train\"},{\"order_no\":6,\"to\":\"Perpignan\",\"by\":\"train\"},{\"order_no\":7,\"to\":\"Barcelona\",\"by\":\"train\"},{\"order_no\":8,\"to\":\"Sevilla\",\"by\":\"train\"},{\"order_no\":9,\"to\":\"Faro\",\"by\":\"bus\"},{\"order_no\":10,\"to\":\"Lisboa\",\"by\":\"bus\"},{\"order_no\":11,\"to\":\"Cascais\",\"by\":\"train\"},{\"order_no\":12,\"to\":\"Porto\",\"by\":\"train\"},{\"order_no\":13,\"to\":\"Madrid\",\"by\":\"plane\"},{\"order_no\":14,\"to\":\"Paris\",\"by\":\"plane\"},{\"order_no\":15,\"to\":\"Warszawa\",\"by\":\"plane\"}', 15), ('My trip to USA', 'Madrid', '{\"order_no\":1,\"to\":\"Chicago\",\"by\":\"plane\"},{\"order_no\":2,\"to\":\"New York\",\"by\":\"plane\"},{\"order_no\":3,\"to\":\"Boston\",\"by\":\"car\"},{\"order_no\":4,\"to\":\"Philadelphia\",\"by\":\"car\"},{\"order_no\":5,\"to\":\"Washington\",\"by\":\"car\"},{\"order_no\":6,\"to\":\"Seattle\",\"by\":\"plane\"},{\"order_no\":7,\"to\":\"San Francisco\",\"by\":\"plane\"},{\"order_no\":8,\"to\":\"San Jose\",\"by\":\"car\"},{\"order_no\":9,\"to\":\"Monterey\",\"by\":\"car\"},{\"order_no\":10,\"to\":\"Santa Barbara\",\"by\":\"car\"},{\"order_no\":11,\"to\":\"Los Angeles\",\"by\":\"car\"},{\"order_no\":12,\"to\":\"Las Vegas\",\"by\":\"car\"},{\"order_no\":13,\"to\":\"Madrid\",\"by\":\"plane\"}', 13), ('My trip around Poland', 'Rome', '{\"order_no\":1,\"to\":\"Warszawa\",\"by\":\"plane\"},{\"order_no\":2,\"to\":\"Torun\",\"by\":\"bus\"},{\"order_no\":3,\"to\":\"Poznan\",\"by\":\"bus\"},{\"order_no\":4,\"to\":\"Warszawa\",\"by\":\"train\"},{\"order_no\":5,\"to\":\"Zakopane\",\"by\":\"car\"},{\"order_no\":6,\"to\":\"Krakow\",\"by\":\"bus\"},{\"order_no\":7,\"to\":\"Rome\",\"by\":\"plane\"}', 7), ('My holidays to USA', 'London', '{\"order_no\":1,\"to\":\"San Francisco\",\"by\":\"plane\"},{\"order_no\":2,\"to\":\"Los Angeles\",\"by\":\"plane\"},{\"order_no\":3,\"to\":\"Santa Barbara\",\"by\":\"car\"},{\"order_no\":4,\"to\":\"Los Angeles\",\"by\":\"car\"},{\"order_no\":5,\"to\":\"London\",\"by\":\"plane\"}', 5), ('My trip around Poland', 'Chicago', '{\"order_no\":1,\"to\":\"Warszawa\",\"by\":\"plane\"},{\"order_no\":2,\"to\":\"Krakow\",\"by\":\"train\"},{\"order_no\":3,\"to\":\"Zakopane\",\"by\":\"bus\"},{\"order_no\":4,\"to\":\"Warszawa\",\"by\":\"bus\"},{\"order_no\":5,\"to\":\"Chicago\",\"by\":\"plane\"}', 5), ('My trip around Poland', 'Lisboa', '{\"order_no\":1,\"to\":\"Warszawa\",\"by\":\"plane\"},{\"order_no\":2,\"to\":\"Krakow\",\"by\":\"train\"},{\"order_no\":3,\"to\":\"Zakopane\",\"by\":\"bus\"},{\"order_no\":4,\"to\":\"Warszawa\",\"by\":\"bus\"},{\"order_no\":5,\"to\":\"Lisboa\",\"by\":\"plane\"}', 5), ('My trip around Poland', 'Nice', '{\"order_no\":1,\"to\":\"Poznan\",\"by\":\"plane\"},{\"order_no\":2,\"to\":\"Warszawa\",\"by\":\"train\"},{\"order_no\":3,\"to\":\"Krakow\",\"by\":\"train\"},{\"order_no\":4,\"to\":\"Nice\",\"by\":\"plane\"}', 4), ('Weekend in Barcelona', 'Madrid', '{\"order_no\":1,\"to\":\"Barcelona\",\"by\":\"plane\"},{\"order_no\":2,\"to\":\"Madrid\",\"by\":\"plane\"},{\"order_no\":1,\"to\":\"Barcelona\",\"by\":\"plane\"},{\"order_no\":2,\"to\":\"Madrid\",\"by\":\"plane\"}', 4), ('Weekend in London', 'Madrid', '{\"order_no\":1,\"to\":\"London\",\"by\":\"plane\"},{\"order_no\":2,\"to\":\"Madrid\",\"by\":\"plane\"}', 2)]\n"
     ]
    }
   ],
   "source": [
    "execute_sql_file(\"long_trip_cities_query.sql\")\n"
   ]
  },
  {
   "cell_type": "code",
   "execution_count": null,
   "metadata": {},
   "outputs": [
    {
     "name": "stderr",
     "output_type": "stream",
     "text": [
      "UsageError: Cell magic `%%cypher` not found.\n"
     ]
    }
   ],
   "source": [
    "%%cypher\n",
    "MATCH (weekend:Trip{duration:2})-[:STARTS_FROM]->(madrid:Place{name:'Madrid'}),\n",
    "(trip:Trip)-[:IS_PART_OF]->(weekend),\n",
    "(trip)-[:TO]->(place:Place)\n",
    "WHERE place.name <> 'Madrid'\n",
    "WITH place.name as placeName, count(place) as counts\n",
    "RETURN placeName\n",
    "ORDER BY counts DESC"
   ]
  },
  {
   "cell_type": "code",
   "execution_count": null,
   "metadata": {},
   "outputs": [
    {
     "name": "stdout",
     "output_type": "stream",
     "text": [
      "[('Barcelona', 2), ('London', 1)]\n"
     ]
    }
   ],
   "source": [
    "execute_sql_file(\"popular_madrid_destinations.sql\")"
   ]
  },
  {
   "cell_type": "markdown",
   "metadata": {},
   "source": [
    "## 2a. I am Laura, 31, from Madrid. Currently visiting Warsaw in Poland. What restaurants in Warsaw are mostly recommended by people in my age?\n",
    "\n"
   ]
  },
  {
   "cell_type": "code",
   "execution_count": null,
   "metadata": {},
   "outputs": [],
   "source": [
    "%%cypher\n",
    "MATCH (restaurant:Sustenance)-[IS_LOCATED_IN]->(:Place{name:'Warszawa'}),\n",
    "(client:Person)-[:WENT_FOR]->(:Trip)-[meal:WENT_TO]->restaurant\n",
    "WHERE client.age>25 AND client.age<36\n",
    "WITH DISTINCT restaurant.name as resto, collect(meal) as meals\n",
    "WITH resto, (reduce(s = 0 , x IN meals | s + x.rate))/size(meals) as avg_rate\n",
    "RETURN resto, avg_rate\n",
    "ORDER BY avg_rate DESC"
   ]
  },
  {
   "cell_type": "code",
   "execution_count": null,
   "metadata": {},
   "outputs": [
    {
     "name": "stdout",
     "output_type": "stream",
     "text": [
      "[('Pierogarnia Zapiecek', 5.0), ('Literatka', 5.0)]\n"
     ]
    }
   ],
   "source": [
    "execute_sql_file(\"restaurant_avg_rate_query.sql\")"
   ]
  },
  {
   "cell_type": "markdown",
   "metadata": {},
   "source": [
    "## 1b. I am Laura, 31, from Madrid. I am planning to go to USA for one month. I want to see as many places as possible. Show me how people travel there.\n"
   ]
  },
  {
   "cell_type": "code",
   "execution_count": null,
   "metadata": {},
   "outputs": [],
   "source": [
    "%%cypher\n",
    "MATCH (shortTrip:Trip)-[:TO]->(:Place)-[:BELONGS_TO*]->(:Country{code:'US'}),\n",
    "(shortTrip)-[:IS_PART_OF]->(usaTrip:Trip)-[:STARTS_FROM]->(start_place:Place)\n",
    "WHERE usaTrip.duration<32\n",
    "WITH DISTINCT usaTrip, start_place.name as start_place\n",
    "MATCH (:Country{code:'US'})<-[:BELONGS_TO*]-(city:Place)<-[to:TO]-(shortTrip:Trip)-[part:IS_PART_OF]->(usaTrip)\n",
    "WITH usaTrip.name as tripName, start_place, city.name as name, part.order_no as order_no, to.transportation as by\n",
    "ORDER BY order_no\n",
    "WITH tripName, start_place, collect({order_no:order_no, to:name, by:by}) as cities\n",
    "WITH tripName, start_place, cities, size(cities) as nbrOfCities\n",
    "RETURN tripName, start_place, cities\n",
    "ORDER BY nbrOfCities DESC"
   ]
  },
  {
   "cell_type": "code",
   "execution_count": null,
   "metadata": {},
   "outputs": [
    {
     "name": "stdout",
     "output_type": "stream",
     "text": [
      "[('My trip to USA', 'Madrid', '{\"order_no\":1,\"to\":\"Chicago\",\"by\":\"plane\"},{\"order_no\":2,\"to\":\"New York\",\"by\":\"plane\"},{\"order_no\":3,\"to\":\"Boston\",\"by\":\"car\"},{\"order_no\":4,\"to\":\"Philadelphia\",\"by\":\"car\"},{\"order_no\":5,\"to\":\"Washington\",\"by\":\"car\"},{\"order_no\":6,\"to\":\"Seattle\",\"by\":\"plane\"},{\"order_no\":7,\"to\":\"San Francisco\",\"by\":\"plane\"},{\"order_no\":8,\"to\":\"San Jose\",\"by\":\"car\"},{\"order_no\":9,\"to\":\"Monterey\",\"by\":\"car\"},{\"order_no\":10,\"to\":\"Santa Barbara\",\"by\":\"car\"},{\"order_no\":11,\"to\":\"Los Angeles\",\"by\":\"car\"},{\"order_no\":12,\"to\":\"Las Vegas\",\"by\":\"car\"}', 12), ('My holidays to USA', 'London', '{\"order_no\":1,\"to\":\"San Francisco\",\"by\":\"plane\"},{\"order_no\":2,\"to\":\"Los Angeles\",\"by\":\"plane\"},{\"order_no\":3,\"to\":\"Santa Barbara\",\"by\":\"car\"},{\"order_no\":4,\"to\":\"Los Angeles\",\"by\":\"car\"}', 4)]\n"
     ]
    }
   ],
   "source": [
    "execute_sql_file(\"usa_trips_query.sql\")"
   ]
  },
  {
   "cell_type": "markdown",
   "metadata": {},
   "source": [
    "## 2c. I am Laura, 31, from Madrid. Currently visiting Warsaw in Poland. I want to spend more time in Poland than I planned previously. Where can I go next?\n"
   ]
  },
  {
   "cell_type": "code",
   "execution_count": null,
   "metadata": {},
   "outputs": [],
   "source": [
    "%%cypher\n",
    "MATCH (warsawTrip:Trip)-[:TO]->(place:Place{name:'Warszawa'}),\n",
    "(warsawTrip)-[warsawPart:IS_PART_OF]->(longTrip:Trip),\n",
    "(previousPlace:Place)<-[:TO]-(previousTrip)-[previousPart:IS_PART_OF]->longTrip,\n",
    "(place)-[:BELONGS_TO*]->(:Country{name:'Poland'})<-[BELONGS_TO]-(previousPlace)\n",
    "WHERE previousPart.order_no = warsawPart.order_no -1\n",
    "RETURN previousPlace.name as place\n",
    "UNION\n",
    "MATCH (warsawTrip:Trip)-[:TO]->(place:Place{name:'Warszawa'}),\n",
    "(warsawTrip)-[warsawPart:IS_PART_OF]->(longTrip:Trip),\n",
    "(nextPlace:Place)<-[:TO]-(nextTrip)-[nextPart:IS_PART_OF]->longTrip,\n",
    "(place)-[:BELONGS_TO*]->(:Country{name:'Poland'})<-[BELONGS_TO]-(nextPlace)\n",
    "WHERE nextPart.order_no = warsawPart.order_no +1\n",
    "RETURN nextPlace.name as place"
   ]
  },
  {
   "cell_type": "code",
   "execution_count": null,
   "metadata": {},
   "outputs": [
    {
     "name": "stdout",
     "output_type": "stream",
     "text": [
      "[('Krakow',), ('Poznan',), ('Torun',), ('Zakopane',)]\n"
     ]
    }
   ],
   "source": [
    "execute_sql_file(\"warsaw_neighboring_places_query.sql\")"
   ]
  }
 ],
 "metadata": {
  "kernelspec": {
   "display_name": "base",
   "language": "python",
   "name": "python3"
  },
  "language_info": {
   "codemirror_mode": {
    "name": "ipython",
    "version": 3
   },
   "file_extension": ".py",
   "mimetype": "text/x-python",
   "name": "python",
   "nbconvert_exporter": "python",
   "pygments_lexer": "ipython3",
   "version": "3.12.7"
  }
 },
 "nbformat": 4,
 "nbformat_minor": 2
}
